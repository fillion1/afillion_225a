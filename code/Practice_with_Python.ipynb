{
  "nbformat": 4,
  "nbformat_minor": 0,
  "metadata": {
    "colab": {
      "provenance": [],
      "authorship_tag": "ABX9TyMIC5qN76yyDrfpdUVOdeLI",
      "include_colab_link": true
    },
    "kernelspec": {
      "name": "python3",
      "display_name": "Python 3"
    },
    "language_info": {
      "name": "python"
    }
  },
  "cells": [
    {
      "cell_type": "markdown",
      "metadata": {
        "id": "view-in-github",
        "colab_type": "text"
      },
      "source": [
        "<a href=\"https://colab.research.google.com/github/fillion1/afillion_225a/blob/main/code/Practice_with_Python.ipynb\" target=\"_parent\"><img src=\"https://colab.research.google.com/assets/colab-badge.svg\" alt=\"Open In Colab\"/></a>"
      ]
    },
    {
      "cell_type": "code",
      "execution_count": null,
      "metadata": {
        "colab": {
          "base_uri": "https://localhost:8080/"
        },
        "id": "REbFZdcraQyj",
        "outputId": "79c3a406-ba58-4050-a9c8-c0dc749df97b"
      },
      "outputs": [
        {
          "output_type": "stream",
          "name": "stdout",
          "text": [
            "I've always wanted to live in San Fracisco.\n",
            "San Fracisco is full of wonderful buildings and people.\n",
            "12\n",
            "SAN FRACISCO\n",
            "c\n",
            "i\n",
            "s\n",
            "c\n",
            "o\n"
          ]
        }
      ],
      "source": [
        "favorite_city = \"San Fracisco\"\n",
        "print(\"I've always wanted to live in \" + favorite_city + \".\")\n",
        "print(favorite_city + \" is full of wonderful buildings and people.\")\n",
        "print(len(favorite_city))\n",
        "print(favorite_city.upper())\n",
        "print(favorite_city[7])\n",
        "print(favorite_city[8])\n",
        "print(favorite_city[9])\n",
        "print(favorite_city[10])\n",
        "print(favorite_city[11])"
      ]
    },
    {
      "cell_type": "code",
      "source": [
        "num1 = float(input(\"Enter a number: \"))\n",
        "op = input(\"Choose an operation (+, -, *, or /) \")\n",
        "num2 = float(input(\"Enter another number \"))\n",
        "\n",
        "if op == \"+\":\n",
        "  print(num1 + num2)\n",
        "elif op == \"-\":\n",
        "  print(num1 - num2)\n",
        "elif op == \"*\":\n",
        "  print(num1 * num2)\n",
        "elif op == \"/\":\n",
        "  print(num1 / num2)\n",
        "else:\n",
        " print(\"Invalid Operation\")\n",
        "\n"
      ],
      "metadata": {
        "colab": {
          "base_uri": "https://localhost:8080/"
        },
        "id": "SgmwfwMv3887",
        "outputId": "48903446-aacf-448c-cbdb-7552b365ebc9"
      },
      "execution_count": null,
      "outputs": [
        {
          "output_type": "stream",
          "name": "stdout",
          "text": [
            "Enter a number: 7657998765\n",
            "Choose an operation (+, -, *, or /) +\n",
            "Enter another number 1\n",
            "7657998766.0\n"
          ]
        }
      ]
    },
    {
      "cell_type": "code",
      "source": [
        "n1 = input(\"Enter a noun: \")\n",
        "pn1 = input(\"Enter a name: \")\n",
        "pn2 = input(\"Enter a city name: \")\n",
        "n2 = input(\"Enter a job: \")\n",
        "v1 = input(\"Enter a verb: \")\n",
        "v2 = input(\"Enter a verb: \")\n",
        "v3 = input(\"Enter a verb: \")\n",
        "\n",
        "print()\n",
        "print(\"There once was a \" + n1 + \" named \" + pn1 + \".\")\n",
        "print(pn1 + \" lived in the city of \" + pn2 + \".\")\n",
        "print(pn1 + \" worked as a \" + n2 + \".\")\n",
        "print(\"One day while \" + pn1 + \" was working, they \" + v1 + \".\")\n",
        "print(\"This caused everyone to \" + v2 + \".\")\n",
        "print(pn1 + \" was immediately \" + v3 + \".\")"
      ],
      "metadata": {
        "colab": {
          "base_uri": "https://localhost:8080/"
        },
        "id": "0YhLsyhN9Ryq",
        "outputId": "b67f2edc-22d6-423e-c903-eaddc0939c74"
      },
      "execution_count": null,
      "outputs": [
        {
          "output_type": "stream",
          "name": "stdout",
          "text": [
            "Enter a noun: Dog\n",
            "Enter a name: Honey\n",
            "Enter a city name: San Fracisco\n",
            "Enter a job: Leader Dog\n",
            "Enter a verb: pooped\n",
            "Enter a verb: bark\n",
            "Enter a verb: terrified\n",
            "\n",
            "There once was a Dog named Honey.\n",
            "Honey lived in the city of San Fracisco.\n",
            "Honey worked as a Leader Dog.\n",
            "One day while Honey was working, they pooped.\n",
            "This caused everyone to bark.\n",
            "Honey was immediately terrified.\n"
          ]
        }
      ]
    },
    {
      "cell_type": "code",
      "source": [
        "\n",
        "def complement_seqence(reverse_seq):\n",
        "  complement = {\"A\":\"T\", \"T\":\"A\", \"G\":\"C\", \"C\":\"G\", \"a\":\"t\", \"t\":\"a\", \"g\":\"c\", \"c\":\"g\"}\n",
        "  complement_seq = \"\"\n",
        "  for nucleotide in reverse_seq:\n",
        "    complement_nucleotide = complement[nucleotide]\n",
        "    complement_seq += complement_nucleotide\n",
        "\n",
        "  return complement_seq\n",
        "\n",
        "def reverse(DNA_seq):\n",
        "  reverse_seq = \"\"\n",
        "  for nucleotide in DNA_seq:\n",
        "    reverse_seq = nucleotide + reverse_seq\n",
        "\n",
        "  return reverse_seq\n",
        "\n",
        "DNA_seq = input(\"Enter DNA Sequence:\")\n",
        "print(complement_seqence(reverse(DNA_seq)))\n",
        "\n",
        ""
      ],
      "metadata": {
        "id": "HSIEkwugXQ4g",
        "outputId": "08d5bf93-5356-4341-e190-3d78fc1d8ad8",
        "colab": {
          "base_uri": "https://localhost:8080/"
        }
      },
      "execution_count": 32,
      "outputs": [
        {
          "output_type": "stream",
          "name": "stdout",
          "text": [
            "Enter DNA Sequence:gggggatctggagctctcgaGacc\n",
            "ggtCtcgagagctccagatccccc\n"
          ]
        }
      ]
    }
  ]
}